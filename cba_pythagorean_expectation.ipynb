{
 "cells": [
  {
   "cell_type": "code",
   "execution_count": 1,
   "metadata": {
    "ExecuteTime": {
     "end_time": "2021-07-20T04:49:06.062000Z",
     "start_time": "2021-07-20T04:49:04.727350Z"
    }
   },
   "outputs": [],
   "source": [
    "import pandas as pd\n",
    "import numpy as np\n",
    "import requests\n",
    "from bs4 import BeautifulSoup\n",
    "from sklearn.metrics import r2_score"
   ]
  },
  {
   "cell_type": "markdown",
   "metadata": {},
   "source": [
    "# Scrape Data"
   ]
  },
  {
   "cell_type": "markdown",
   "metadata": {},
   "source": [
    "Data scraped from Sina's CBA Database "
   ]
  },
  {
   "cell_type": "code",
   "execution_count": 2,
   "metadata": {
    "ExecuteTime": {
     "end_time": "2021-07-20T04:49:06.068656Z",
     "start_time": "2021-07-20T04:49:06.065306Z"
    }
   },
   "outputs": [],
   "source": [
    "sina_link = 'http://cba.sports.sina.com.cn/cba/stats/teamrank/'"
   ]
  },
  {
   "cell_type": "code",
   "execution_count": 3,
   "metadata": {
    "ExecuteTime": {
     "end_time": "2021-07-20T04:49:06.076280Z",
     "start_time": "2021-07-20T04:49:06.071256Z"
    }
   },
   "outputs": [],
   "source": [
    "season_dict = {'20-21': '206',\n",
    "               '19-20': '205',\n",
    "               '18-19': '198',\n",
    "               '17-18': '189',\n",
    "               '16-17': '180',\n",
    "               '15-16': '171'}"
   ]
  },
  {
   "cell_type": "code",
   "execution_count": 4,
   "metadata": {
    "ExecuteTime": {
     "end_time": "2021-07-20T04:49:06.082634Z",
     "start_time": "2021-07-20T04:49:06.079662Z"
    }
   },
   "outputs": [],
   "source": [
    "def fetch(url):\n",
    "    r = requests.get(url)\n",
    "    r.encoding = 'gbk'\n",
    "    soup = BeautifulSoup(r.text, 'html.parser')\n",
    "    return soup"
   ]
  },
  {
   "cell_type": "code",
   "execution_count": 5,
   "metadata": {
    "ExecuteTime": {
     "end_time": "2021-07-20T04:49:06.090547Z",
     "start_time": "2021-07-20T04:49:06.085801Z"
    }
   },
   "outputs": [],
   "source": [
    "def get_raw_data(html):\n",
    "    data_list = []\n",
    "    for row in html.find_all('tr'):\n",
    "        row_list = []\n",
    "        for item in row.find_all('th'):\n",
    "            row_list.append(item.text)\n",
    "        for item in row.find_all('td'):\n",
    "            row_list.append(item.text)\n",
    "        data_list.append(row_list)\n",
    "    return data_list"
   ]
  },
  {
   "cell_type": "code",
   "execution_count": 6,
   "metadata": {
    "ExecuteTime": {
     "end_time": "2021-07-20T04:49:06.098351Z",
     "start_time": "2021-07-20T04:49:06.093017Z"
    }
   },
   "outputs": [],
   "source": [
    "def get_league_df(url):\n",
    "    soup = fetch(url)\n",
    "    league_table = soup.findAll('table')[0]\n",
    "    league_data = get_raw_data(league_table)[1:]\n",
    "    league_data = [[col.replace('\\n', '').replace('\\t', '').strip()\n",
    "                    for col in row]\n",
    "                   for row in league_data]               \n",
    "    league_cols = ['排名', '球队', '胜', '负', '胜率', '主场战绩',\n",
    "                   '客场战绩', '每场得分', '每场丢分', '连胜/连负']\n",
    "    league_df = pd.DataFrame(league_data, columns=league_cols)\n",
    "    return league_df[['胜', '负', '每场得分', '每场丢分']]"
   ]
  },
  {
   "cell_type": "code",
   "execution_count": 7,
   "metadata": {
    "ExecuteTime": {
     "end_time": "2021-07-20T04:49:07.019877Z",
     "start_time": "2021-07-20T04:49:06.100741Z"
    }
   },
   "outputs": [],
   "source": [
    "dfs = []\n",
    "for key in season_dict:\n",
    "    url = f'{sina_link}?qleagueid={season_dict[key]}'\n",
    "    temp = get_league_df(url)\n",
    "    temp['赛季'] = key.split('-')[0]\n",
    "    dfs.append(temp)"
   ]
  },
  {
   "cell_type": "code",
   "execution_count": 8,
   "metadata": {
    "ExecuteTime": {
     "end_time": "2021-07-20T04:49:07.029455Z",
     "start_time": "2021-07-20T04:49:07.021853Z"
    }
   },
   "outputs": [],
   "source": [
    "df = pd.concat(dfs)"
   ]
  },
  {
   "cell_type": "markdown",
   "metadata": {},
   "source": [
    "# Adjust Data"
   ]
  },
  {
   "cell_type": "code",
   "execution_count": 9,
   "metadata": {
    "ExecuteTime": {
     "end_time": "2021-07-20T04:49:07.048123Z",
     "start_time": "2021-07-20T04:49:07.031948Z"
    }
   },
   "outputs": [
    {
     "data": {
      "text/plain": [
       "胜       float64\n",
       "负       float64\n",
       "每场得分    float64\n",
       "每场丢分    float64\n",
       "赛季      float64\n",
       "dtype: object"
      ]
     },
     "execution_count": 9,
     "metadata": {},
     "output_type": "execute_result"
    }
   ],
   "source": [
    "for col in list(df.columns):\n",
    "    df[col] = df[col].apply(float)\n",
    "df.dtypes"
   ]
  },
  {
   "cell_type": "code",
   "execution_count": 10,
   "metadata": {
    "ExecuteTime": {
     "end_time": "2021-07-20T04:49:07.075779Z",
     "start_time": "2021-07-20T04:49:07.049920Z"
    }
   },
   "outputs": [
    {
     "data": {
      "text/html": [
       "<div>\n",
       "<style scoped>\n",
       "    .dataframe tbody tr th:only-of-type {\n",
       "        vertical-align: middle;\n",
       "    }\n",
       "\n",
       "    .dataframe tbody tr th {\n",
       "        vertical-align: top;\n",
       "    }\n",
       "\n",
       "    .dataframe thead th {\n",
       "        text-align: right;\n",
       "    }\n",
       "</style>\n",
       "<table border=\"1\" class=\"dataframe\">\n",
       "  <thead>\n",
       "    <tr style=\"text-align: right;\">\n",
       "      <th></th>\n",
       "      <th>胜</th>\n",
       "      <th>负</th>\n",
       "      <th>每场得分</th>\n",
       "      <th>每场丢分</th>\n",
       "      <th>赛季</th>\n",
       "      <th>场次</th>\n",
       "      <th>胜率</th>\n",
       "      <th>得分</th>\n",
       "      <th>失分</th>\n",
       "    </tr>\n",
       "  </thead>\n",
       "  <tbody>\n",
       "    <tr>\n",
       "      <th>0</th>\n",
       "      <td>46.0</td>\n",
       "      <td>6.0</td>\n",
       "      <td>119.38</td>\n",
       "      <td>105.96</td>\n",
       "      <td>20.0</td>\n",
       "      <td>52.0</td>\n",
       "      <td>0.884615</td>\n",
       "      <td>6207.76</td>\n",
       "      <td>5509.92</td>\n",
       "    </tr>\n",
       "  </tbody>\n",
       "</table>\n",
       "</div>"
      ],
      "text/plain": [
       "      胜    负    每场得分    每场丢分    赛季    场次        胜率       得分       失分\n",
       "0  46.0  6.0  119.38  105.96  20.0  52.0  0.884615  6207.76  5509.92"
      ]
     },
     "execution_count": 10,
     "metadata": {},
     "output_type": "execute_result"
    }
   ],
   "source": [
    "df['场次'] = df['胜'] + df['负']\n",
    "df['胜率'] = df['胜'] / df['场次']\n",
    "df['得分'] = df['场次'] * df['每场得分']\n",
    "df['失分'] = df['场次'] * df['每场丢分']\n",
    "df.head(1)"
   ]
  },
  {
   "cell_type": "markdown",
   "metadata": {},
   "source": [
    "# Calculate the Exponent"
   ]
  },
  {
   "cell_type": "code",
   "execution_count": 11,
   "metadata": {
    "ExecuteTime": {
     "end_time": "2021-07-20T04:49:07.086406Z",
     "start_time": "2021-07-20T04:49:07.078241Z"
    }
   },
   "outputs": [
    {
     "data": {
      "text/plain": [
       "((100, 9), (19, 9))"
      ]
     },
     "execution_count": 11,
     "metadata": {},
     "output_type": "execute_result"
    }
   ],
   "source": [
    "df_train = df[df['赛季'] < 20]\n",
    "df_test = df[(df['赛季'] == 20) & (df['胜'] != 0)] # Fix 八一\n",
    "df_train.shape, df_test.shape"
   ]
  },
  {
   "cell_type": "code",
   "execution_count": 12,
   "metadata": {
    "ExecuteTime": {
     "end_time": "2021-07-20T04:49:07.094586Z",
     "start_time": "2021-07-20T04:49:07.088142Z"
    }
   },
   "outputs": [],
   "source": [
    "def calc_exponent(df, last_n_yrs=3):    \n",
    "    best_r2 = 0\n",
    "    best_r2_exponent = 0\n",
    "    \n",
    "    yr_cond = sorted(list(set(df['赛季'])), reverse=True)[:last_n_yrs]\n",
    "    df_adj = df[df['赛季'].isin(yr_cond)]\n",
    "    print(df_adj.shape)\n",
    "    \n",
    "    for i in range(1, 2001):\n",
    "        exponent = i / 100\n",
    "        temp = df_adj.copy()\n",
    "        temp['预测胜率'] = temp['得分'] ** exponent / \\\n",
    "                          (temp['得分'] ** exponent + \n",
    "                           temp['失分'] ** exponent)\n",
    "        r2 = r2_score(temp['胜率'], temp['预测胜率'])\n",
    "        if r2 > best_r2:\n",
    "            best_r2 = r2\n",
    "            best_r2_exponent = exponent\n",
    "    \n",
    "    print(f'{best_r2_exponent} is the best exponent')\n",
    "    print(f'with {best_r2:.2%} being the highest R-squared.')"
   ]
  },
  {
   "cell_type": "markdown",
   "metadata": {},
   "source": [
    "## Last 3 Years"
   ]
  },
  {
   "cell_type": "code",
   "execution_count": 13,
   "metadata": {
    "ExecuteTime": {
     "end_time": "2021-07-20T04:49:10.317748Z",
     "start_time": "2021-07-20T04:49:07.096897Z"
    }
   },
   "outputs": [
    {
     "name": "stdout",
     "output_type": "stream",
     "text": [
      "(60, 9)\n",
      "13.27 is the best exponent\n",
      "with 96.42% being the highest R-squared.\n"
     ]
    }
   ],
   "source": [
    "calc_exponent(df_train)"
   ]
  },
  {
   "cell_type": "markdown",
   "metadata": {},
   "source": [
    "## Last 5 Years"
   ]
  },
  {
   "cell_type": "code",
   "execution_count": 14,
   "metadata": {
    "ExecuteTime": {
     "end_time": "2021-07-20T04:49:13.583098Z",
     "start_time": "2021-07-20T04:49:10.319989Z"
    }
   },
   "outputs": [
    {
     "name": "stdout",
     "output_type": "stream",
     "text": [
      "(100, 9)\n",
      "13.28 is the best exponent\n",
      "with 96.24% being the highest R-squared.\n"
     ]
    }
   ],
   "source": [
    "calc_exponent(df_train, last_n_yrs=5)"
   ]
  },
  {
   "cell_type": "markdown",
   "metadata": {},
   "source": [
    "# 20-21"
   ]
  },
  {
   "cell_type": "markdown",
   "metadata": {},
   "source": [
    "Try 13.27"
   ]
  },
  {
   "cell_type": "code",
   "execution_count": 15,
   "metadata": {
    "ExecuteTime": {
     "end_time": "2021-07-20T04:49:13.591807Z",
     "start_time": "2021-07-20T04:49:13.585609Z"
    }
   },
   "outputs": [
    {
     "data": {
      "text/plain": [
       "'20-21 Season R-squared: 97.14%'"
      ]
     },
     "execution_count": 15,
     "metadata": {},
     "output_type": "execute_result"
    }
   ],
   "source": [
    "exponent = 13.27\n",
    "pred = df_test['得分'] ** exponent / (df_test['得分'] ** exponent + df_test['失分'] ** exponent)\n",
    "f\"20-21 Season R-squared: {r2_score(df_test['胜率'], pred):.2%}\""
   ]
  }
 ],
 "metadata": {
  "kernelspec": {
   "display_name": "Python 3",
   "language": "python",
   "name": "python3"
  },
  "language_info": {
   "codemirror_mode": {
    "name": "ipython",
    "version": 3
   },
   "file_extension": ".py",
   "mimetype": "text/x-python",
   "name": "python",
   "nbconvert_exporter": "python",
   "pygments_lexer": "ipython3",
   "version": "3.6.7"
  }
 },
 "nbformat": 4,
 "nbformat_minor": 2
}
